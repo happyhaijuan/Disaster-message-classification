{
 "cells": [
  {
   "cell_type": "markdown",
   "metadata": {},
   "source": [
    "# ML Pipeline Preparation\n",
    "Follow the instructions below to help you create your ML pipeline.\n",
    "### 1. Import libraries and load data from database.\n",
    "- Import Python libraries\n",
    "- Load dataset from database with [`read_sql_table`](https://pandas.pydata.org/pandas-docs/stable/generated/pandas.read_sql_table.html)\n",
    "- Define feature and target variables X and Y"
   ]
  },
  {
   "cell_type": "code",
   "execution_count": 11,
   "metadata": {},
   "outputs": [],
   "source": [
    "# import libraries\n",
    "import pandas as pd\n",
    "import numpy as np\n",
    "from sqlalchemy import create_engine\n",
    "import re\n",
    "import pickle\n",
    "import scipy\n",
    "from scipy.io import arff\n",
    "from sklearn.pipeline import Pipeline\n",
    "from sklearn.feature_extraction.text import CountVectorizer, TfidfTransformer\n",
    "from nltk.tokenize import word_tokenize\n",
    "from nltk.corpus import stopwords\n",
    "from nltk import pos_tag,ne_chunk\n",
    "from nltk.stem.porter import PorterStemmer\n",
    "from nltk.stem.wordnet import WordNetLemmatizer\n",
    "from sklearn.multioutput import MultiOutputClassifier\n",
    "from sklearn.multiclass import OneVsRestClassifier\n",
    "from sklearn.svm import LinearSVC\n",
    "from sklearn.ensemble import RandomForestClassifier\n",
    "from sklearn.model_selection import train_test_split,GridSearchCV\n",
    "from sklearn.metrics import f1_score, classification_report,accuracy_score, scorer,make_scorer,fbeta_score"
   ]
  },
  {
   "cell_type": "code",
   "execution_count": 12,
   "metadata": {},
   "outputs": [],
   "source": [
    "# load data from database\n",
    "engine = create_engine('sqlite:///FigureEight.db')\n",
    "df = pd.read_sql_table('FigureEight',engine)\n",
    "X = df['message'].values\n",
    "Y = df[df.columns[3:]].values\n",
    "category_names = df.columns[3:]\n"
   ]
  },
  {
   "cell_type": "markdown",
   "metadata": {},
   "source": [
    "### 2. Write a tokenization function to process your text data"
   ]
  },
  {
   "cell_type": "code",
   "execution_count": 13,
   "metadata": {},
   "outputs": [],
   "source": [
    "def tokenize(text):\n",
    "    '''\n",
    "    input: \n",
    "        text : message text for processing\n",
    "    output: \n",
    "        tokenized_word : message text after being processed \n",
    "    '''\n",
    "    # Case Normalization\n",
    "    lower_text = text.lower()\n",
    "    # Punctutation removal\n",
    "    ptext =re.sub(r\"[^a-zA-Z0-9]\",\" \", lower_text)\n",
    "    # Word Tokenization\n",
    "    tokenword = word_tokenize(ptext)\n",
    "    # stopword removal\n",
    "    stopword = [w for w in tokenword if w not in stopwords.words('english')]\n",
    "   # tokenized_word = []\n",
    "    #for word in tokenword:\n",
    "     #   tokenized_word.append(word if word not in stopwords.words('english')）\n",
    "    lemmed_word=[]\n",
    "    for word in stopword:\n",
    "        lemmed_word.append(WordNetLemmatizer().lemmatize(word,pos='v'))\n",
    "    #lemmed_word = [WordNetLemmatizer().lemmatize(word, pos = 'v') for word in stopword]\n",
    "    return lemmed_word"
   ]
  },
  {
   "cell_type": "markdown",
   "metadata": {},
   "source": [
    "### 3. Build a machine learning pipeline\n",
    "This machine pipeline should take in the `message` column as input and output classification results on the other 36 categories in the dataset. You may find the [MultiOutputClassifier](http://scikit-learn.org/stable/modules/generated/sklearn.multioutput.MultiOutputClassifier.html) helpful for predicting multiple target variables."
   ]
  },
  {
   "cell_type": "code",
   "execution_count": 14,
   "metadata": {},
   "outputs": [],
   "source": [
    "pipeline = Pipeline([('vect',CountVectorizer(tokenizer = tokenize)),('tfidf',TfidfTransformer()),\n",
    "                     ('clf',MultiOutputClassifier(OneVsRestClassifier(LinearSVC(random_state = 1))))])"
   ]
  },
  {
   "cell_type": "markdown",
   "metadata": {},
   "source": [
    "### 4. Train pipeline\n",
    "- Split data into train and test sets\n",
    "- Train \n"
   ]
  },
  {
   "cell_type": "code",
   "execution_count": 15,
   "metadata": {},
   "outputs": [],
   "source": [
    "def train_pipeline(X,Y):\n",
    "    '''\n",
    "    input: X,Y used to train classifier\n",
    "    output: fitted pipeline, train,test data\n",
    "\n",
    "    '''\n",
    "    X_train,X_test, Y_train, Y_test = train_test_split(X,Y,test_size = 0.2)\n",
    "    pipeline.fit(X_train, Y_train)\n",
    "    # train classifier\n",
    "    return pipeline, X_train, X_test,Y_train,Y_test\n",
    "\n",
    "   "
   ]
  },
  {
   "cell_type": "code",
   "execution_count": 16,
   "metadata": {},
   "outputs": [
    {
     "name": "stderr",
     "output_type": "stream",
     "text": [
      "/Applications/anaconda3/lib/python3.7/site-packages/sklearn/multiclass.py:76: UserWarning: Label not 0 is present in all training examples.\n",
      "  str(classes[c]))\n"
     ]
    }
   ],
   "source": [
    "model, X_train,X_test,Y_train,Y_test = train_pipeline(X,Y)"
   ]
  },
  {
   "cell_type": "markdown",
   "metadata": {},
   "source": [
    "### 5. Test your model\n",
    "Report the f1 score, precision and recall for each output category of the dataset. You can do this by iterating through the columns and calling sklearn's `classification_report` on each."
   ]
  },
  {
   "cell_type": "code",
   "execution_count": 17,
   "metadata": {},
   "outputs": [],
   "source": [
    "def evaluation (x_test, y_test):\n",
    "    \"\"\"\n",
    "    input: testing dataset\n",
    "    output: evaluation report\n",
    "    \"\"\"\n",
    "   # model, X_train,X_test,Y_train,Y_test = train_pipeline(X,Y)\n",
    "    Y_predict = model.predict(X_test)\n",
    "    print(classification_report(Y_predict, Y_test, target_names = category_names))\n",
    "    print('%%%%%%%%%%%%%%%%%%%%%%%%%%%%%%%%%%%%%%%%%%%%%%%%%%%%%%%%%%%%%%%%%%%%%%%%%%%%')\n",
    "    for i in range(Y_test.shape[1]):\n",
    "        print('%25s accuracy : %.2f' %(category_names[i], accuracy_score(Y_test[:,i], Y_predict[:,i])))\n",
    "    \n",
    "  "
   ]
  },
  {
   "cell_type": "code",
   "execution_count": 18,
   "metadata": {},
   "outputs": [
    {
     "name": "stdout",
     "output_type": "stream",
     "text": [
      "                        precision    recall  f1-score   support\n",
      "\n",
      "               related       0.91      0.86      0.88      4241\n",
      "               request       0.58      0.74      0.65       687\n",
      "                 offer       0.00      0.00      0.00         0\n",
      "           aid_related       0.70      0.73      0.72      2052\n",
      "          medical_help       0.30      0.57      0.39       200\n",
      "      medical_products       0.28      0.68      0.40       101\n",
      "     search_and_rescue       0.20      0.70      0.31        43\n",
      "              security       0.01      0.11      0.02         9\n",
      "              military       0.31      0.60      0.40        87\n",
      "           child_alone       0.00      0.00      0.00         0\n",
      "                 water       0.59      0.76      0.67       255\n",
      "                  food       0.70      0.82      0.75       492\n",
      "               shelter       0.56      0.79      0.66       322\n",
      "              clothing       0.39      0.60      0.47        45\n",
      "                 money       0.20      0.63      0.30        41\n",
      "        missing_people       0.08      0.71      0.14         7\n",
      "              refugees       0.23      0.64      0.33        58\n",
      "                 death       0.49      0.69      0.57       157\n",
      "             other_aid       0.19      0.47      0.27       298\n",
      "infrastructure_related       0.08      0.33      0.13        78\n",
      "             transport       0.28      0.65      0.39       102\n",
      "             buildings       0.35      0.60      0.45       144\n",
      "           electricity       0.23      0.56      0.33        41\n",
      "                 tools       0.00      0.00      0.00         0\n",
      "             hospitals       0.03      1.00      0.06         2\n",
      "                 shops       0.00      0.00      0.00         0\n",
      "           aid_centers       0.02      0.25      0.04         4\n",
      "  other_infrastructure       0.04      0.30      0.07        30\n",
      "       weather_related       0.71      0.79      0.75      1286\n",
      "                floods       0.53      0.85      0.66       267\n",
      "                 storm       0.60      0.71      0.65       390\n",
      "                  fire       0.23      0.93      0.37        15\n",
      "            earthquake       0.73      0.89      0.81       425\n",
      "                  cold       0.38      0.65      0.47        51\n",
      "         other_weather       0.11      0.41      0.18        71\n",
      "         direct_report       0.52      0.68      0.59       782\n",
      "\n",
      "             micro avg       0.60      0.77      0.67     12783\n",
      "             macro avg       0.32      0.58      0.39     12783\n",
      "          weighted avg       0.69      0.77      0.72     12783\n",
      "           samples avg       0.50      0.60      0.50     12783\n",
      "\n",
      "%%%%%%%%%%%%%%%%%%%%%%%%%%%%%%%%%%%%%%%%%%%%%%%%%%%%%%%%%%%%%%%%%%%%%%%%%%%%\n",
      "                  related accuracy : 0.82\n",
      "                  request accuracy : 0.89\n",
      "                    offer accuracy : 1.00\n",
      "              aid_related accuracy : 0.77\n",
      "             medical_help accuracy : 0.93\n",
      "         medical_products accuracy : 0.96\n",
      "        search_and_rescue accuracy : 0.97\n",
      "                 security accuracy : 0.98\n",
      "                 military accuracy : 0.97\n",
      "              child_alone accuracy : 1.00\n",
      "                    water accuracy : 0.96\n",
      "                     food accuracy : 0.95\n",
      "                  shelter accuracy : 0.95\n",
      "                 clothing accuracy : 0.99\n",
      "                    money accuracy : 0.98\n",
      "           missing_people accuracy : 0.99\n",
      "                 refugees accuracy : 0.97\n",
      "                    death accuracy : 0.97\n",
      "                other_aid accuracy : 0.86\n",
      "   infrastructure_related accuracy : 0.93\n",
      "                transport accuracy : 0.96\n",
      "                buildings accuracy : 0.96\n",
      "              electricity accuracy : 0.98\n",
      "                    tools accuracy : 0.99\n",
      "                hospitals accuracy : 0.99\n",
      "                    shops accuracy : 1.00\n",
      "              aid_centers accuracy : 0.99\n",
      "     other_infrastructure accuracy : 0.96\n",
      "          weather_related accuracy : 0.87\n",
      "                   floods accuracy : 0.95\n",
      "                    storm accuracy : 0.94\n",
      "                     fire accuracy : 0.99\n",
      "               earthquake accuracy : 0.97\n",
      "                     cold accuracy : 0.99\n",
      "            other_weather accuracy : 0.95\n",
      "            direct_report accuracy : 0.86\n"
     ]
    },
    {
     "name": "stderr",
     "output_type": "stream",
     "text": [
      "/Applications/anaconda3/lib/python3.7/site-packages/sklearn/metrics/classification.py:1437: UndefinedMetricWarning: Precision and F-score are ill-defined and being set to 0.0 in labels with no predicted samples.\n",
      "  'precision', 'predicted', average, warn_for)\n",
      "/Applications/anaconda3/lib/python3.7/site-packages/sklearn/metrics/classification.py:1439: UndefinedMetricWarning: Recall and F-score are ill-defined and being set to 0.0 in labels with no true samples.\n",
      "  'recall', 'true', average, warn_for)\n",
      "/Applications/anaconda3/lib/python3.7/site-packages/sklearn/metrics/classification.py:1437: UndefinedMetricWarning: Precision and F-score are ill-defined and being set to 0.0 in samples with no predicted labels.\n",
      "  'precision', 'predicted', average, warn_for)\n",
      "/Applications/anaconda3/lib/python3.7/site-packages/sklearn/metrics/classification.py:1439: UndefinedMetricWarning: Recall and F-score are ill-defined and being set to 0.0 in samples with no true labels.\n",
      "  'recall', 'true', average, warn_for)\n"
     ]
    }
   ],
   "source": [
    "evaluation(X_test, Y_test)"
   ]
  },
  {
   "cell_type": "markdown",
   "metadata": {},
   "source": [
    "\n",
    "### 6. Improve your model\n",
    "Use grid search to find better parameters."
   ]
  },
  {
   "cell_type": "code",
   "execution_count": 19,
   "metadata": {},
   "outputs": [
    {
     "data": {
      "text/plain": [
       "GridSearchCV(cv=3, error_score='raise-deprecating',\n",
       "             estimator=Pipeline(memory=None,\n",
       "                                steps=[('vect',\n",
       "                                        CountVectorizer(analyzer='word',\n",
       "                                                        binary=False,\n",
       "                                                        decode_error='strict',\n",
       "                                                        dtype=<class 'numpy.int64'>,\n",
       "                                                        encoding='utf-8',\n",
       "                                                        input='content',\n",
       "                                                        lowercase=True,\n",
       "                                                        max_df=1.0,\n",
       "                                                        max_features=None,\n",
       "                                                        min_df=1,\n",
       "                                                        ngram_range=(1, 1),\n",
       "                                                        preprocessor=None,\n",
       "                                                        stop_words=None,\n",
       "                                                        strip_accents=None,\n",
       "                                                        tok...\n",
       "                                                                                                                loss='squared_hinge',\n",
       "                                                                                                                max_iter=1000,\n",
       "                                                                                                                multi_class='ovr',\n",
       "                                                                                                                penalty='l2',\n",
       "                                                                                                                random_state=1,\n",
       "                                                                                                                tol=0.0001,\n",
       "                                                                                                                verbose=0),\n",
       "                                                                                            n_jobs=None),\n",
       "                                                              n_jobs=None))],\n",
       "                                verbose=False),\n",
       "             iid='warn', n_jobs=None,\n",
       "             param_grid={'clf__estimator__estimator__C': [1, 2, 5],\n",
       "                         'tfidf__smooth_idf': [True, False]},\n",
       "             pre_dispatch='2*n_jobs', refit=True, return_train_score=False,\n",
       "             scoring='precision_samples', verbose=0)"
      ]
     },
     "execution_count": 19,
     "metadata": {},
     "output_type": "execute_result"
    }
   ],
   "source": [
    " parameters = {\n",
    "            'tfidf__smooth_idf':[True, False],\n",
    "            'clf__estimator__estimator__C': [1, 2, 5] \n",
    "                 }\n",
    "\n",
    "cv = GridSearchCV(pipeline,param_grid=parameters,scoring= 'precision_samples', cv=3)\n",
    "cv"
   ]
  },
  {
   "cell_type": "code",
   "execution_count": 20,
   "metadata": {},
   "outputs": [
    {
     "name": "stderr",
     "output_type": "stream",
     "text": [
      "/Applications/anaconda3/lib/python3.7/site-packages/sklearn/multiclass.py:76: UserWarning: Label not 0 is present in all training examples.\n",
      "  str(classes[c]))\n",
      "/Applications/anaconda3/lib/python3.7/site-packages/sklearn/metrics/classification.py:1437: UndefinedMetricWarning: Precision is ill-defined and being set to 0.0 in samples with no predicted labels.\n",
      "  'precision', 'predicted', average, warn_for)\n",
      "/Applications/anaconda3/lib/python3.7/site-packages/sklearn/multiclass.py:76: UserWarning: Label not 0 is present in all training examples.\n",
      "  str(classes[c]))\n",
      "/Applications/anaconda3/lib/python3.7/site-packages/sklearn/metrics/classification.py:1437: UndefinedMetricWarning: Precision is ill-defined and being set to 0.0 in samples with no predicted labels.\n",
      "  'precision', 'predicted', average, warn_for)\n",
      "/Applications/anaconda3/lib/python3.7/site-packages/sklearn/multiclass.py:76: UserWarning: Label not 0 is present in all training examples.\n",
      "  str(classes[c]))\n",
      "/Applications/anaconda3/lib/python3.7/site-packages/sklearn/metrics/classification.py:1437: UndefinedMetricWarning: Precision is ill-defined and being set to 0.0 in samples with no predicted labels.\n",
      "  'precision', 'predicted', average, warn_for)\n",
      "/Applications/anaconda3/lib/python3.7/site-packages/sklearn/multiclass.py:76: UserWarning: Label not 0 is present in all training examples.\n",
      "  str(classes[c]))\n",
      "/Applications/anaconda3/lib/python3.7/site-packages/sklearn/metrics/classification.py:1437: UndefinedMetricWarning: Precision is ill-defined and being set to 0.0 in samples with no predicted labels.\n",
      "  'precision', 'predicted', average, warn_for)\n",
      "/Applications/anaconda3/lib/python3.7/site-packages/sklearn/multiclass.py:76: UserWarning: Label not 0 is present in all training examples.\n",
      "  str(classes[c]))\n",
      "/Applications/anaconda3/lib/python3.7/site-packages/sklearn/metrics/classification.py:1437: UndefinedMetricWarning: Precision is ill-defined and being set to 0.0 in samples with no predicted labels.\n",
      "  'precision', 'predicted', average, warn_for)\n",
      "/Applications/anaconda3/lib/python3.7/site-packages/sklearn/multiclass.py:76: UserWarning: Label not 0 is present in all training examples.\n",
      "  str(classes[c]))\n",
      "/Applications/anaconda3/lib/python3.7/site-packages/sklearn/metrics/classification.py:1437: UndefinedMetricWarning: Precision is ill-defined and being set to 0.0 in samples with no predicted labels.\n",
      "  'precision', 'predicted', average, warn_for)\n",
      "/Applications/anaconda3/lib/python3.7/site-packages/sklearn/multiclass.py:76: UserWarning: Label not 0 is present in all training examples.\n",
      "  str(classes[c]))\n",
      "/Applications/anaconda3/lib/python3.7/site-packages/sklearn/metrics/classification.py:1437: UndefinedMetricWarning: Precision is ill-defined and being set to 0.0 in samples with no predicted labels.\n",
      "  'precision', 'predicted', average, warn_for)\n",
      "/Applications/anaconda3/lib/python3.7/site-packages/sklearn/multiclass.py:76: UserWarning: Label not 0 is present in all training examples.\n",
      "  str(classes[c]))\n",
      "/Applications/anaconda3/lib/python3.7/site-packages/sklearn/metrics/classification.py:1437: UndefinedMetricWarning: Precision is ill-defined and being set to 0.0 in samples with no predicted labels.\n",
      "  'precision', 'predicted', average, warn_for)\n",
      "/Applications/anaconda3/lib/python3.7/site-packages/sklearn/multiclass.py:76: UserWarning: Label not 0 is present in all training examples.\n",
      "  str(classes[c]))\n",
      "/Applications/anaconda3/lib/python3.7/site-packages/sklearn/metrics/classification.py:1437: UndefinedMetricWarning: Precision is ill-defined and being set to 0.0 in samples with no predicted labels.\n",
      "  'precision', 'predicted', average, warn_for)\n",
      "/Applications/anaconda3/lib/python3.7/site-packages/sklearn/multiclass.py:76: UserWarning: Label not 0 is present in all training examples.\n",
      "  str(classes[c]))\n",
      "/Applications/anaconda3/lib/python3.7/site-packages/sklearn/metrics/classification.py:1437: UndefinedMetricWarning: Precision is ill-defined and being set to 0.0 in samples with no predicted labels.\n",
      "  'precision', 'predicted', average, warn_for)\n",
      "/Applications/anaconda3/lib/python3.7/site-packages/sklearn/multiclass.py:76: UserWarning: Label not 0 is present in all training examples.\n",
      "  str(classes[c]))\n",
      "/Applications/anaconda3/lib/python3.7/site-packages/sklearn/metrics/classification.py:1437: UndefinedMetricWarning: Precision is ill-defined and being set to 0.0 in samples with no predicted labels.\n",
      "  'precision', 'predicted', average, warn_for)\n",
      "/Applications/anaconda3/lib/python3.7/site-packages/sklearn/multiclass.py:76: UserWarning: Label not 0 is present in all training examples.\n",
      "  str(classes[c]))\n",
      "/Applications/anaconda3/lib/python3.7/site-packages/sklearn/metrics/classification.py:1437: UndefinedMetricWarning: Precision is ill-defined and being set to 0.0 in samples with no predicted labels.\n",
      "  'precision', 'predicted', average, warn_for)\n",
      "/Applications/anaconda3/lib/python3.7/site-packages/sklearn/multiclass.py:76: UserWarning: Label not 0 is present in all training examples.\n",
      "  str(classes[c]))\n",
      "/Applications/anaconda3/lib/python3.7/site-packages/sklearn/metrics/classification.py:1437: UndefinedMetricWarning: Precision is ill-defined and being set to 0.0 in samples with no predicted labels.\n",
      "  'precision', 'predicted', average, warn_for)\n",
      "/Applications/anaconda3/lib/python3.7/site-packages/sklearn/multiclass.py:76: UserWarning: Label not 0 is present in all training examples.\n",
      "  str(classes[c]))\n",
      "/Applications/anaconda3/lib/python3.7/site-packages/sklearn/metrics/classification.py:1437: UndefinedMetricWarning: Precision is ill-defined and being set to 0.0 in samples with no predicted labels.\n",
      "  'precision', 'predicted', average, warn_for)\n",
      "/Applications/anaconda3/lib/python3.7/site-packages/sklearn/multiclass.py:76: UserWarning: Label not 0 is present in all training examples.\n",
      "  str(classes[c]))\n",
      "/Applications/anaconda3/lib/python3.7/site-packages/sklearn/metrics/classification.py:1437: UndefinedMetricWarning: Precision is ill-defined and being set to 0.0 in samples with no predicted labels.\n",
      "  'precision', 'predicted', average, warn_for)\n",
      "/Applications/anaconda3/lib/python3.7/site-packages/sklearn/multiclass.py:76: UserWarning: Label not 0 is present in all training examples.\n",
      "  str(classes[c]))\n",
      "/Applications/anaconda3/lib/python3.7/site-packages/sklearn/metrics/classification.py:1437: UndefinedMetricWarning: Precision is ill-defined and being set to 0.0 in samples with no predicted labels.\n",
      "  'precision', 'predicted', average, warn_for)\n",
      "/Applications/anaconda3/lib/python3.7/site-packages/sklearn/multiclass.py:76: UserWarning: Label not 0 is present in all training examples.\n",
      "  str(classes[c]))\n",
      "/Applications/anaconda3/lib/python3.7/site-packages/sklearn/metrics/classification.py:1437: UndefinedMetricWarning: Precision is ill-defined and being set to 0.0 in samples with no predicted labels.\n",
      "  'precision', 'predicted', average, warn_for)\n",
      "/Applications/anaconda3/lib/python3.7/site-packages/sklearn/multiclass.py:76: UserWarning: Label not 0 is present in all training examples.\n",
      "  str(classes[c]))\n",
      "/Applications/anaconda3/lib/python3.7/site-packages/sklearn/metrics/classification.py:1437: UndefinedMetricWarning: Precision is ill-defined and being set to 0.0 in samples with no predicted labels.\n",
      "  'precision', 'predicted', average, warn_for)\n",
      "/Applications/anaconda3/lib/python3.7/site-packages/sklearn/multiclass.py:76: UserWarning: Label not 0 is present in all training examples.\n",
      "  str(classes[c]))\n"
     ]
    },
    {
     "data": {
      "text/plain": [
       "GridSearchCV(cv=3, error_score='raise-deprecating',\n",
       "             estimator=Pipeline(memory=None,\n",
       "                                steps=[('vect',\n",
       "                                        CountVectorizer(analyzer='word',\n",
       "                                                        binary=False,\n",
       "                                                        decode_error='strict',\n",
       "                                                        dtype=<class 'numpy.int64'>,\n",
       "                                                        encoding='utf-8',\n",
       "                                                        input='content',\n",
       "                                                        lowercase=True,\n",
       "                                                        max_df=1.0,\n",
       "                                                        max_features=None,\n",
       "                                                        min_df=1,\n",
       "                                                        ngram_range=(1, 1),\n",
       "                                                        preprocessor=None,\n",
       "                                                        stop_words=None,\n",
       "                                                        strip_accents=None,\n",
       "                                                        tok...\n",
       "                                                                                                                loss='squared_hinge',\n",
       "                                                                                                                max_iter=1000,\n",
       "                                                                                                                multi_class='ovr',\n",
       "                                                                                                                penalty='l2',\n",
       "                                                                                                                random_state=1,\n",
       "                                                                                                                tol=0.0001,\n",
       "                                                                                                                verbose=0),\n",
       "                                                                                            n_jobs=None),\n",
       "                                                              n_jobs=None))],\n",
       "                                verbose=False),\n",
       "             iid='warn', n_jobs=None,\n",
       "             param_grid={'clf__estimator__estimator__C': [1, 2, 5],\n",
       "                         'tfidf__smooth_idf': [True, False]},\n",
       "             pre_dispatch='2*n_jobs', refit=True, return_train_score=False,\n",
       "             scoring='precision_samples', verbose=0)"
      ]
     },
     "execution_count": 20,
     "metadata": {},
     "output_type": "execute_result"
    }
   ],
   "source": [
    "cv.fit(X_train, Y_train)"
   ]
  },
  {
   "cell_type": "markdown",
   "metadata": {},
   "source": [
    "### 7. Test your model\n",
    "Show the accuracy, precision, and recall of the tuned model.  \n",
    "\n",
    "Since this project focuses on code quality, process, and  pipelines, there is no minimum performance metric needed to pass. However, make sure to fine tune your models for accuracy, precision and recall to make your project stand out - especially for your portfolio!"
   ]
  },
  {
   "cell_type": "code",
   "execution_count": 24,
   "metadata": {},
   "outputs": [],
   "source": [
    "cv_predict = cv.predict(X_test)"
   ]
  },
  {
   "cell_type": "code",
   "execution_count": 25,
   "metadata": {},
   "outputs": [
    {
     "name": "stdout",
     "output_type": "stream",
     "text": [
      "                        precision    recall  f1-score   support\n",
      "\n",
      "               related       0.91      0.86      0.88      4241\n",
      "               request       0.58      0.74      0.65       687\n",
      "                 offer       0.00      0.00      0.00         0\n",
      "           aid_related       0.70      0.73      0.72      2052\n",
      "          medical_help       0.30      0.57      0.39       200\n",
      "      medical_products       0.28      0.68      0.40       101\n",
      "     search_and_rescue       0.20      0.70      0.31        43\n",
      "              security       0.01      0.11      0.02         9\n",
      "              military       0.31      0.60      0.40        87\n",
      "           child_alone       0.00      0.00      0.00         0\n",
      "                 water       0.59      0.76      0.67       255\n",
      "                  food       0.70      0.82      0.75       492\n",
      "               shelter       0.56      0.79      0.66       322\n",
      "              clothing       0.39      0.60      0.47        45\n",
      "                 money       0.20      0.63      0.30        41\n",
      "        missing_people       0.08      0.71      0.14         7\n",
      "              refugees       0.23      0.64      0.33        58\n",
      "                 death       0.49      0.69      0.57       157\n",
      "             other_aid       0.19      0.47      0.27       298\n",
      "infrastructure_related       0.08      0.33      0.13        78\n",
      "             transport       0.28      0.65      0.39       102\n",
      "             buildings       0.35      0.60      0.45       144\n",
      "           electricity       0.23      0.56      0.33        41\n",
      "                 tools       0.00      0.00      0.00         0\n",
      "             hospitals       0.03      1.00      0.06         2\n",
      "                 shops       0.00      0.00      0.00         0\n",
      "           aid_centers       0.02      0.25      0.04         4\n",
      "  other_infrastructure       0.04      0.30      0.07        30\n",
      "       weather_related       0.71      0.79      0.75      1286\n",
      "                floods       0.53      0.85      0.66       267\n",
      "                 storm       0.60      0.71      0.65       390\n",
      "                  fire       0.23      0.93      0.37        15\n",
      "            earthquake       0.73      0.89      0.81       425\n",
      "                  cold       0.38      0.65      0.47        51\n",
      "         other_weather       0.11      0.41      0.18        71\n",
      "         direct_report       0.52      0.68      0.59       782\n",
      "\n",
      "             micro avg       0.60      0.77      0.67     12783\n",
      "             macro avg       0.32      0.58      0.39     12783\n",
      "          weighted avg       0.69      0.77      0.72     12783\n",
      "           samples avg       0.50      0.60      0.50     12783\n",
      "\n"
     ]
    }
   ],
   "source": [
    "print(classification_report(cv_predict,Y_test,target_names = category_names))"
   ]
  },
  {
   "cell_type": "code",
   "execution_count": 26,
   "metadata": {},
   "outputs": [
    {
     "name": "stdout",
     "output_type": "stream",
     "text": [
      "                  related accuracy : 0.82\n",
      "                  request accuracy : 0.89\n",
      "                    offer accuracy : 1.00\n",
      "              aid_related accuracy : 0.77\n",
      "             medical_help accuracy : 0.93\n",
      "         medical_products accuracy : 0.96\n",
      "        search_and_rescue accuracy : 0.97\n",
      "                 security accuracy : 0.98\n",
      "                 military accuracy : 0.97\n",
      "              child_alone accuracy : 1.00\n",
      "                    water accuracy : 0.96\n",
      "                     food accuracy : 0.95\n",
      "                  shelter accuracy : 0.95\n",
      "                 clothing accuracy : 0.99\n",
      "                    money accuracy : 0.98\n",
      "           missing_people accuracy : 0.99\n",
      "                 refugees accuracy : 0.97\n",
      "                    death accuracy : 0.97\n",
      "                other_aid accuracy : 0.86\n",
      "   infrastructure_related accuracy : 0.93\n",
      "                transport accuracy : 0.96\n",
      "                buildings accuracy : 0.96\n",
      "              electricity accuracy : 0.98\n",
      "                    tools accuracy : 0.99\n",
      "                hospitals accuracy : 0.99\n",
      "                    shops accuracy : 1.00\n",
      "              aid_centers accuracy : 0.99\n",
      "     other_infrastructure accuracy : 0.96\n",
      "          weather_related accuracy : 0.87\n",
      "                   floods accuracy : 0.95\n",
      "                    storm accuracy : 0.94\n",
      "                     fire accuracy : 0.99\n",
      "               earthquake accuracy : 0.97\n",
      "                     cold accuracy : 0.99\n",
      "            other_weather accuracy : 0.95\n",
      "            direct_report accuracy : 0.86\n"
     ]
    }
   ],
   "source": [
    "for i in range(Y_test.shape[1]):\n",
    "          print('%25s accuracy : %.2f' %(category_names[i], accuracy_score(Y_test[:,i], cv_predict[:,i])))"
   ]
  },
  {
   "cell_type": "markdown",
   "metadata": {},
   "source": [
    "### 8. Try improving your model further. Here are a few ideas:\n",
    "* try other machine learning algorithms\n",
    "* add other features besides the TF-IDF"
   ]
  },
  {
   "cell_type": "markdown",
   "metadata": {},
   "source": [
    "### 9. Export your model as a pickle file"
   ]
  },
  {
   "cell_type": "code",
   "execution_count": 27,
   "metadata": {},
   "outputs": [],
   "source": [
    "pickle.dump(model,open(\"pipeline.p\",\"wb\"))"
   ]
  },
  {
   "cell_type": "markdown",
   "metadata": {},
   "source": [
    "### 10. Use this notebook to complete `train.py`\n",
    "Use the template file attached in the Resources folder to write a script that runs the steps above to create a database and export a model based on a new dataset specified by the user."
   ]
  }
 ],
 "metadata": {
  "kernelspec": {
   "display_name": "Python 3",
   "language": "python",
   "name": "python3"
  },
  "language_info": {
   "codemirror_mode": {
    "name": "ipython",
    "version": 3
   },
   "file_extension": ".py",
   "mimetype": "text/x-python",
   "name": "python",
   "nbconvert_exporter": "python",
   "pygments_lexer": "ipython3",
   "version": "3.7.4"
  }
 },
 "nbformat": 4,
 "nbformat_minor": 2
}
